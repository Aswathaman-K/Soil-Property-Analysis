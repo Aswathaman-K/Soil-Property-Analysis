{
 "cells": [
  {
   "cell_type": "code",
   "execution_count": null,
   "id": "0013e417-f94d-4f93-948b-e7d536c8038a",
   "metadata": {},
   "outputs": [],
   "source": [
    "import pandas as pd\n",
    "from sklearn.linear_model import LogisticRegression\n",
    "from sklearn.model_selection import train_test_split, cross_val_score, StratifiedKFold\n",
    "from sklearn import metrics\n",
    "import numpy as np\n",
    "\n",
    "# Load the dataset\n",
    "crops = pd.read_csv(\"soil_measures.csv\")"
   ]
  },
  {
   "cell_type": "code",
   "execution_count": null,
   "id": "1547596b-3aad-4777-8ec1-4c744564a963",
   "metadata": {},
   "outputs": [],
   "source": [
    "crops"
   ]
  },
  {
   "cell_type": "code",
   "execution_count": null,
   "id": "31fec4fa-4d6b-4b51-98d1-64b4dd635313",
   "metadata": {},
   "outputs": [],
   "source": [
    "X = crops.drop('crop', axis=1)\n",
    "features = X.columns\n",
    "\n",
    "y=crops[['crop']]\n",
    "\n",
    "#X_train, X_test, y_train, y_test = train_test_split(X, y, stratify=y, random_state=7)\n",
    "kf = StratifiedKFold(n_splits=6, shuffle=True, random_state=7)"
   ]
  },
  {
   "cell_type": "code",
   "execution_count": null,
   "id": "63dd2d5d-399a-46dc-abf1-18617f5e6b94",
   "metadata": {},
   "outputs": [],
   "source": [
    "model = LogisticRegression()\n",
    "results=[]\n",
    "\n",
    "for feature in features:\n",
    "    current_feature = X[[feature]]\n",
    "    score = cross_val_score(model, current_feature, y, cv=kf)\n",
    "    results.append(score)"
   ]
  },
  {
   "cell_type": "code",
   "execution_count": null,
   "id": "f8cbeffb-a321-4851-b089-42139e6d1833",
   "metadata": {},
   "outputs": [],
   "source": [
    "dict_of_scores = {}\n",
    "for i in range (0,4):\n",
    "    dict_of_scores[features[i]] = results[i]\n",
    "    \n",
    "print(dict_of_scores)\n",
    "s = np.mean(results[2])\n",
    "print(s)"
   ]
  },
  {
   "cell_type": "code",
   "execution_count": null,
   "id": "a94c551f-47c5-4d27-bb29-b5799257c19c",
   "metadata": {},
   "outputs": [],
   "source": [
    "best_predictive_feature = {'K': 0.2995513269109553}"
   ]
  }
 ],
 "metadata": {
  "kernelspec": {
   "display_name": "Python 3 (ipykernel)",
   "language": "python",
   "name": "python3"
  },
  "language_info": {
   "codemirror_mode": {
    "name": "ipython",
    "version": 3
   },
   "file_extension": ".py",
   "mimetype": "text/x-python",
   "name": "python",
   "nbconvert_exporter": "python",
   "pygments_lexer": "ipython3",
   "version": "3.12.4"
  }
 },
 "nbformat": 4,
 "nbformat_minor": 5
}
